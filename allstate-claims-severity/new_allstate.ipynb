{
 "cells": [
  {
   "cell_type": "markdown",
   "metadata": {},
   "source": [
    "# AllState Claims Severity\n",
    "\n",
    "Download data [Here](https://www.kaggle.com/c/allstate-claims-severity/data)."
   ]
  },
  {
   "cell_type": "code",
   "execution_count": 27,
   "metadata": {
    "collapsed": false
   },
   "outputs": [],
   "source": [
    "%matplotlib inline\n",
    "\n",
    "import os\n",
    "\n",
    "import numpy as np\n",
    "import pandas as pd\n",
    "import xgboost as xgb\n",
    "from sklearn.model_selection import train_test_split, KFold\n",
    "from sklearn.ensemble import RandomForestRegressor, ExtraTreesRegressor\n",
    "from sklearn.metrics import mean_absolute_error\n",
    "from scipy.stats import skew, boxcox"
   ]
  },
  {
   "cell_type": "markdown",
   "metadata": {
    "collapsed": false
   },
   "source": [
    "# Processing data"
   ]
  },
  {
   "cell_type": "code",
   "execution_count": 28,
   "metadata": {
    "collapsed": true
   },
   "outputs": [],
   "source": [
    "SEED = 0\n",
    "NFOLDS = 5\n",
    "DIR = '.'"
   ]
  },
  {
   "cell_type": "code",
   "execution_count": 29,
   "metadata": {
    "collapsed": false
   },
   "outputs": [],
   "source": [
    "df_train, df_test = pd.read_csv('train.csv'), pd.read_csv('test.csv')\n",
    "\n",
    "y_train = np.log(df_train['loss'])\n",
    "\n",
    "# Factorization of the categorical features\n",
    "for col in (col for col in df_train.columns if col.startswith('cat')):\n",
    "    tmp = df_train.groupby([df_train[col]])['loss'].mean()\n",
    "    df_train[col] = df_train[col].map(tmp)\n",
    "    df_test[col] = df_test[col].map(tmp)\n",
    "    \n",
    "df_train.drop(['id', 'loss'], axis=1, inplace=True)\n",
    "df_test.drop(['id'], axis=1, inplace=True)\n",
    "\n",
    "ntrain = df_train.shape[0]\n",
    "ntest = df_test.shape[0]\n",
    "\n",
    "df_all = pd.concat((df_train, df_test)).reset_index(drop=True)\n",
    "\n",
    "# Skew continuous features\n",
    "skewed_feats = [col for col in df_all if col.startswith('cont')]\n",
    "skewed_cols = df_all[skewed_feats].apply(lambda x: skew(x.dropna()))\n",
    "skewed_cols = skewed_cols[skewed_cols > 0.25]\n",
    "skewed_cols = skewed_cols.index\n",
    "for col in skewed_cols:\n",
    "    df_all[col] = df_all[col] + 1\n",
    "    df_all[col], _ = boxcox(df_all[col])\n",
    "\n",
    "    \n",
    "x_train = np.array(df_all.iloc[:ntrain, :])\n",
    "x_test = np.array(df_all.iloc[:ntest, :])\n",
    "\n",
    "dtrain = xgb.DMatrix(x_train, label=y_train)\n",
    "dtest = xgb.DMatrix(x_test)"
   ]
  },
  {
   "cell_type": "markdown",
   "metadata": {},
   "source": [
    "# Cross-Validation"
   ]
  },
  {
   "cell_type": "code",
   "execution_count": 30,
   "metadata": {
    "collapsed": false
   },
   "outputs": [
    {
     "name": "stdout",
     "output_type": "stream",
     "text": [
      "[0]\ttrain-mae:3034.5+4.23324\ttest-mae:3034.5+12.699\n",
      "[25]\ttrain-mae:2118.98+2.68874\ttest-mae:2120.19+12.6238\n",
      "[50]\ttrain-mae:1258.56+1.93532\ttest-mae:1271.85+7.99047\n",
      "[75]\ttrain-mae:1160.28+1.84739\ttest-mae:1182.7+6.53358\n",
      "[100]\ttrain-mae:1138.05+1.50493\ttest-mae:1167.18+5.6351\n",
      "[125]\ttrain-mae:1126.02+1.35728\ttest-mae:1160.99+5.44647\n",
      "[150]\ttrain-mae:1117.03+1.65688\ttest-mae:1157.3+5.4599\n",
      "[175]\ttrain-mae:1109.29+1.31711\ttest-mae:1154.49+5.52512\n",
      "[200]\ttrain-mae:1102.67+1.04539\ttest-mae:1152.48+5.49301\n",
      "[225]\ttrain-mae:1096.56+1.07843\ttest-mae:1151.03+5.53475\n",
      "[250]\ttrain-mae:1090.82+1.01109\ttest-mae:1149.5+5.55211\n",
      "[275]\ttrain-mae:1085.64+1.19867\ttest-mae:1148.72+5.5693\n",
      "[300]\ttrain-mae:1080.79+1.32893\ttest-mae:1147.95+5.61412\n",
      "[325]\ttrain-mae:1075.88+1.31393\ttest-mae:1147.11+5.77183\n",
      "[350]\ttrain-mae:1070.96+1.34184\ttest-mae:1146.62+5.67829\n",
      "[375]\ttrain-mae:1066.5+1.41666\ttest-mae:1146.25+5.64086\n",
      "[400]\ttrain-mae:1062.32+1.3974\ttest-mae:1145.98+5.70688\n",
      "[425]\ttrain-mae:1058.04+1.41774\ttest-mae:1145.79+5.66024\n",
      "[450]\ttrain-mae:1053.54+1.46812\ttest-mae:1145.79+5.66914\n"
     ]
    }
   ],
   "source": [
    "params = {\n",
    "    'seed': 0,\n",
    "    'colsample_bytree': 0.7,\n",
    "    'silent': 1,\n",
    "    'subsample': 0.7,\n",
    "    'learning_rate': 0.075,\n",
    "    'objective': 'reg:linear',\n",
    "    'max_depth': 6,\n",
    "    'num_parallel_tree': 1,\n",
    "    'min_child_weight': 1,\n",
    "    'eval_metric': 'mae'\n",
    "}\n",
    "\n",
    "def custom_mae(yhat, dtrain):\n",
    "    y = dtrain.get_label()\n",
    "    return 'mae', mean_absolute_error(np.exp(y), np.exp(yhat))\n",
    "\n",
    "cv = xgb.cv(params, dtrain, num_boost_round=750, nfold=4, seed=0, stratified=False,\n",
    "             early_stopping_rounds=20, verbose_eval=25, show_stdv=True,\n",
    "             feval=custom_mae, maximize=False)\n",
    "\n",
    "best_rounds = cv.shape[0] - 1"
   ]
  },
  {
   "cell_type": "markdown",
   "metadata": {},
   "source": [
    "# Training"
   ]
  },
  {
   "cell_type": "code",
   "execution_count": 31,
   "metadata": {
    "collapsed": true
   },
   "outputs": [],
   "source": [
    "gb = xgb.train(params, dtrain, best_rounds)"
   ]
  },
  {
   "cell_type": "markdown",
   "metadata": {},
   "source": [
    "# Prediction"
   ]
  },
  {
   "cell_type": "code",
   "execution_count": 32,
   "metadata": {
    "collapsed": true
   },
   "outputs": [],
   "source": [
    "sub = pd.read_csv('submission.csv')\n",
    "sub.iloc[:, 1] = np.exp(gb.predict(dtest))\n",
    "sub.to_csv('output.csv')"
   ]
  },
  {
   "cell_type": "code",
   "execution_count": 33,
   "metadata": {
    "collapsed": false
   },
   "outputs": [
    {
     "data": {
      "text/plain": [
       "0"
      ]
     },
     "execution_count": 33,
     "metadata": {},
     "output_type": "execute_result"
    }
   ],
   "source": [
    "os.system('zip sub.csv.zip output.csv')"
   ]
  }
 ],
 "metadata": {
  "anaconda-cloud": {},
  "celltoolbar": "Raw Cell Format",
  "kernelspec": {
   "display_name": "Python [Root]",
   "language": "python",
   "name": "Python [Root]"
  },
  "language_info": {
   "codemirror_mode": {
    "name": "ipython",
    "version": 3
   },
   "file_extension": ".py",
   "mimetype": "text/x-python",
   "name": "python",
   "nbconvert_exporter": "python",
   "pygments_lexer": "ipython3",
   "version": "3.5.2"
  }
 },
 "nbformat": 4,
 "nbformat_minor": 0
}
