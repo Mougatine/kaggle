{
 "cells": [
  {
   "cell_type": "markdown",
   "metadata": {},
   "source": [
    "# AllState Claims Severity\n",
    "\n",
    "Download data [Here](https://www.kaggle.com/c/allstate-claims-severity/data)."
   ]
  },
  {
   "cell_type": "code",
   "execution_count": 1,
   "metadata": {
    "collapsed": false
   },
   "outputs": [],
   "source": [
    "%matplotlib inline\n",
    "\n",
    "import os\n",
    "\n",
    "import numpy as np\n",
    "import pandas as pd\n",
    "import xgboost as xgb\n",
    "from sklearn.model_selection import train_test_split, KFold\n",
    "from sklearn.ensemble import GradientBoostingRegressor, RandomForestRegressor\n",
    "from sklearn.feature_selection import RFECV"
   ]
  },
  {
   "cell_type": "code",
   "execution_count": 7,
   "metadata": {
    "collapsed": true
   },
   "outputs": [],
   "source": [
    "def load_data(train_path, test_path):\n",
    "    return pd.read_csv(train_path), pd.read_csv(test_path)\n",
    "\n",
    "def make_submission(pred, dst='lb.csv', src='submission.csv'):\n",
    "    submission = pd.read_csv(src)\n",
    "    submission.iloc[:, 1] = pred\n",
    "    submission.to_csv(dst, index=None)\n",
    "    \n",
    "    os.system('zip sub.csv.zip {0}'.format(dst))"
   ]
  },
  {
   "cell_type": "code",
   "execution_count": 8,
   "metadata": {
    "collapsed": false
   },
   "outputs": [],
   "source": [
    "train, test = load_data('train.csv', 'test.csv')"
   ]
  },
  {
   "cell_type": "code",
   "execution_count": 9,
   "metadata": {
    "collapsed": false
   },
   "outputs": [
    {
     "name": "stdout",
     "output_type": "stream",
     "text": [
      "Observations: 188318\n",
      "Features: 132\n"
     ]
    },
    {
     "data": {
      "text/html": [
       "<div>\n",
       "<table border=\"1\" class=\"dataframe\">\n",
       "  <thead>\n",
       "    <tr style=\"text-align: right;\">\n",
       "      <th></th>\n",
       "      <th>id</th>\n",
       "      <th>cat1</th>\n",
       "      <th>cat2</th>\n",
       "      <th>cat3</th>\n",
       "      <th>cat4</th>\n",
       "      <th>cat5</th>\n",
       "      <th>cat6</th>\n",
       "      <th>cat7</th>\n",
       "      <th>cat8</th>\n",
       "      <th>cat9</th>\n",
       "      <th>...</th>\n",
       "      <th>cont6</th>\n",
       "      <th>cont7</th>\n",
       "      <th>cont8</th>\n",
       "      <th>cont9</th>\n",
       "      <th>cont10</th>\n",
       "      <th>cont11</th>\n",
       "      <th>cont12</th>\n",
       "      <th>cont13</th>\n",
       "      <th>cont14</th>\n",
       "      <th>loss</th>\n",
       "    </tr>\n",
       "  </thead>\n",
       "  <tbody>\n",
       "    <tr>\n",
       "      <th>0</th>\n",
       "      <td>1</td>\n",
       "      <td>A</td>\n",
       "      <td>B</td>\n",
       "      <td>A</td>\n",
       "      <td>B</td>\n",
       "      <td>A</td>\n",
       "      <td>A</td>\n",
       "      <td>A</td>\n",
       "      <td>A</td>\n",
       "      <td>B</td>\n",
       "      <td>...</td>\n",
       "      <td>0.718367</td>\n",
       "      <td>0.335060</td>\n",
       "      <td>0.30260</td>\n",
       "      <td>0.67135</td>\n",
       "      <td>0.83510</td>\n",
       "      <td>0.569745</td>\n",
       "      <td>0.594646</td>\n",
       "      <td>0.822493</td>\n",
       "      <td>0.714843</td>\n",
       "      <td>2213.18</td>\n",
       "    </tr>\n",
       "    <tr>\n",
       "      <th>1</th>\n",
       "      <td>2</td>\n",
       "      <td>A</td>\n",
       "      <td>B</td>\n",
       "      <td>A</td>\n",
       "      <td>A</td>\n",
       "      <td>A</td>\n",
       "      <td>A</td>\n",
       "      <td>A</td>\n",
       "      <td>A</td>\n",
       "      <td>B</td>\n",
       "      <td>...</td>\n",
       "      <td>0.438917</td>\n",
       "      <td>0.436585</td>\n",
       "      <td>0.60087</td>\n",
       "      <td>0.35127</td>\n",
       "      <td>0.43919</td>\n",
       "      <td>0.338312</td>\n",
       "      <td>0.366307</td>\n",
       "      <td>0.611431</td>\n",
       "      <td>0.304496</td>\n",
       "      <td>1283.60</td>\n",
       "    </tr>\n",
       "    <tr>\n",
       "      <th>2</th>\n",
       "      <td>5</td>\n",
       "      <td>A</td>\n",
       "      <td>B</td>\n",
       "      <td>A</td>\n",
       "      <td>A</td>\n",
       "      <td>B</td>\n",
       "      <td>A</td>\n",
       "      <td>A</td>\n",
       "      <td>A</td>\n",
       "      <td>B</td>\n",
       "      <td>...</td>\n",
       "      <td>0.289648</td>\n",
       "      <td>0.315545</td>\n",
       "      <td>0.27320</td>\n",
       "      <td>0.26076</td>\n",
       "      <td>0.32446</td>\n",
       "      <td>0.381398</td>\n",
       "      <td>0.373424</td>\n",
       "      <td>0.195709</td>\n",
       "      <td>0.774425</td>\n",
       "      <td>3005.09</td>\n",
       "    </tr>\n",
       "    <tr>\n",
       "      <th>3</th>\n",
       "      <td>10</td>\n",
       "      <td>B</td>\n",
       "      <td>B</td>\n",
       "      <td>A</td>\n",
       "      <td>B</td>\n",
       "      <td>A</td>\n",
       "      <td>A</td>\n",
       "      <td>A</td>\n",
       "      <td>A</td>\n",
       "      <td>B</td>\n",
       "      <td>...</td>\n",
       "      <td>0.440945</td>\n",
       "      <td>0.391128</td>\n",
       "      <td>0.31796</td>\n",
       "      <td>0.32128</td>\n",
       "      <td>0.44467</td>\n",
       "      <td>0.327915</td>\n",
       "      <td>0.321570</td>\n",
       "      <td>0.605077</td>\n",
       "      <td>0.602642</td>\n",
       "      <td>939.85</td>\n",
       "    </tr>\n",
       "    <tr>\n",
       "      <th>4</th>\n",
       "      <td>11</td>\n",
       "      <td>A</td>\n",
       "      <td>B</td>\n",
       "      <td>A</td>\n",
       "      <td>B</td>\n",
       "      <td>A</td>\n",
       "      <td>A</td>\n",
       "      <td>A</td>\n",
       "      <td>A</td>\n",
       "      <td>B</td>\n",
       "      <td>...</td>\n",
       "      <td>0.178193</td>\n",
       "      <td>0.247408</td>\n",
       "      <td>0.24564</td>\n",
       "      <td>0.22089</td>\n",
       "      <td>0.21230</td>\n",
       "      <td>0.204687</td>\n",
       "      <td>0.202213</td>\n",
       "      <td>0.246011</td>\n",
       "      <td>0.432606</td>\n",
       "      <td>2763.85</td>\n",
       "    </tr>\n",
       "  </tbody>\n",
       "</table>\n",
       "<p>5 rows × 132 columns</p>\n",
       "</div>"
      ],
      "text/plain": [
       "   id cat1 cat2 cat3 cat4 cat5 cat6 cat7 cat8 cat9   ...        cont6  \\\n",
       "0   1    A    B    A    B    A    A    A    A    B   ...     0.718367   \n",
       "1   2    A    B    A    A    A    A    A    A    B   ...     0.438917   \n",
       "2   5    A    B    A    A    B    A    A    A    B   ...     0.289648   \n",
       "3  10    B    B    A    B    A    A    A    A    B   ...     0.440945   \n",
       "4  11    A    B    A    B    A    A    A    A    B   ...     0.178193   \n",
       "\n",
       "      cont7    cont8    cont9   cont10    cont11    cont12    cont13  \\\n",
       "0  0.335060  0.30260  0.67135  0.83510  0.569745  0.594646  0.822493   \n",
       "1  0.436585  0.60087  0.35127  0.43919  0.338312  0.366307  0.611431   \n",
       "2  0.315545  0.27320  0.26076  0.32446  0.381398  0.373424  0.195709   \n",
       "3  0.391128  0.31796  0.32128  0.44467  0.327915  0.321570  0.605077   \n",
       "4  0.247408  0.24564  0.22089  0.21230  0.204687  0.202213  0.246011   \n",
       "\n",
       "     cont14     loss  \n",
       "0  0.714843  2213.18  \n",
       "1  0.304496  1283.60  \n",
       "2  0.774425  3005.09  \n",
       "3  0.602642   939.85  \n",
       "4  0.432606  2763.85  \n",
       "\n",
       "[5 rows x 132 columns]"
      ]
     },
     "execution_count": 9,
     "metadata": {},
     "output_type": "execute_result"
    }
   ],
   "source": [
    "print('Observations:', len(train))\n",
    "print('Features:', len(train.columns))\n",
    "train.head()"
   ]
  },
  {
   "cell_type": "code",
   "execution_count": 10,
   "metadata": {
    "collapsed": false
   },
   "outputs": [],
   "source": [
    "test.drop(['id'], axis=1, inplace=True)\n",
    "train.drop(['id'], axis=1, inplace=True)\n",
    "\n",
    "#for col in (col for col in test.columns if col.startswith('cat')):\n",
    "#    test[col] = pd.factorize(test[col], sort=True)[0]\n",
    "#    train[col] = pd.factorize(train[col], sort=True)[0]\n",
    "\n",
    "train['loss'].apply(np.log)\n",
    "x_train, y_train = train.ix[:, 'cat1':'cont14'], train.ix[:, 'loss'].ravel()"
   ]
  },
  {
   "cell_type": "code",
   "execution_count": 11,
   "metadata": {
    "collapsed": false,
    "scrolled": true
   },
   "outputs": [],
   "source": [
    "for col in (col for col in train.columns if col.startswith('cat')):\n",
    "    tmp = pd.DataFrame(train['loss'].groupby([train[col]]).mean())\n",
    "    tmp[col] = tmp.index\n",
    "    x_train[col] = pd.merge(left=x_train, right=tmp, how='left', on=col)['loss']\n",
    "    test[col] = pd.merge(left=test, right=tmp, how='left', on=col)['loss']"
   ]
  },
  {
   "cell_type": "code",
   "execution_count": 12,
   "metadata": {
    "collapsed": false
   },
   "outputs": [
    {
     "data": {
      "text/html": [
       "<div>\n",
       "<table border=\"1\" class=\"dataframe\">\n",
       "  <thead>\n",
       "    <tr style=\"text-align: right;\">\n",
       "      <th></th>\n",
       "      <th>cat1</th>\n",
       "      <th>cat2</th>\n",
       "      <th>cat3</th>\n",
       "      <th>cat4</th>\n",
       "      <th>cat5</th>\n",
       "      <th>cat6</th>\n",
       "      <th>cat7</th>\n",
       "      <th>cat8</th>\n",
       "      <th>cat9</th>\n",
       "      <th>cat10</th>\n",
       "      <th>...</th>\n",
       "      <th>cont5</th>\n",
       "      <th>cont6</th>\n",
       "      <th>cont7</th>\n",
       "      <th>cont8</th>\n",
       "      <th>cont9</th>\n",
       "      <th>cont10</th>\n",
       "      <th>cont11</th>\n",
       "      <th>cont12</th>\n",
       "      <th>cont13</th>\n",
       "      <th>cont14</th>\n",
       "    </tr>\n",
       "  </thead>\n",
       "  <tbody>\n",
       "    <tr>\n",
       "      <th>0</th>\n",
       "      <td>3408.091515</td>\n",
       "      <td>3800.104171</td>\n",
       "      <td>2902.219751</td>\n",
       "      <td>3488.392225</td>\n",
       "      <td>2814.648335</td>\n",
       "      <td>3259.916396</td>\n",
       "      <td>2908.944342</td>\n",
       "      <td>2975.558559</td>\n",
       "      <td>3827.621974</td>\n",
       "      <td>2694.135528</td>\n",
       "      <td>...</td>\n",
       "      <td>0.310061</td>\n",
       "      <td>0.718367</td>\n",
       "      <td>0.335060</td>\n",
       "      <td>0.30260</td>\n",
       "      <td>0.67135</td>\n",
       "      <td>0.83510</td>\n",
       "      <td>0.569745</td>\n",
       "      <td>0.594646</td>\n",
       "      <td>0.822493</td>\n",
       "      <td>0.714843</td>\n",
       "    </tr>\n",
       "    <tr>\n",
       "      <th>1</th>\n",
       "      <td>3408.091515</td>\n",
       "      <td>3800.104171</td>\n",
       "      <td>2902.219751</td>\n",
       "      <td>2826.826831</td>\n",
       "      <td>2814.648335</td>\n",
       "      <td>3259.916396</td>\n",
       "      <td>2908.944342</td>\n",
       "      <td>2975.558559</td>\n",
       "      <td>3827.621974</td>\n",
       "      <td>4993.767052</td>\n",
       "      <td>...</td>\n",
       "      <td>0.885834</td>\n",
       "      <td>0.438917</td>\n",
       "      <td>0.436585</td>\n",
       "      <td>0.60087</td>\n",
       "      <td>0.35127</td>\n",
       "      <td>0.43919</td>\n",
       "      <td>0.338312</td>\n",
       "      <td>0.366307</td>\n",
       "      <td>0.611431</td>\n",
       "      <td>0.304496</td>\n",
       "    </tr>\n",
       "    <tr>\n",
       "      <th>2</th>\n",
       "      <td>3408.091515</td>\n",
       "      <td>3800.104171</td>\n",
       "      <td>2902.219751</td>\n",
       "      <td>2826.826831</td>\n",
       "      <td>3464.009806</td>\n",
       "      <td>3259.916396</td>\n",
       "      <td>2908.944342</td>\n",
       "      <td>2975.558559</td>\n",
       "      <td>3827.621974</td>\n",
       "      <td>4993.767052</td>\n",
       "      <td>...</td>\n",
       "      <td>0.397069</td>\n",
       "      <td>0.289648</td>\n",
       "      <td>0.315545</td>\n",
       "      <td>0.27320</td>\n",
       "      <td>0.26076</td>\n",
       "      <td>0.32446</td>\n",
       "      <td>0.381398</td>\n",
       "      <td>0.373424</td>\n",
       "      <td>0.195709</td>\n",
       "      <td>0.774425</td>\n",
       "    </tr>\n",
       "    <tr>\n",
       "      <th>3</th>\n",
       "      <td>1915.198521</td>\n",
       "      <td>3800.104171</td>\n",
       "      <td>2902.219751</td>\n",
       "      <td>3488.392225</td>\n",
       "      <td>2814.648335</td>\n",
       "      <td>3259.916396</td>\n",
       "      <td>2908.944342</td>\n",
       "      <td>2975.558559</td>\n",
       "      <td>3827.621974</td>\n",
       "      <td>2694.135528</td>\n",
       "      <td>...</td>\n",
       "      <td>0.422268</td>\n",
       "      <td>0.440945</td>\n",
       "      <td>0.391128</td>\n",
       "      <td>0.31796</td>\n",
       "      <td>0.32128</td>\n",
       "      <td>0.44467</td>\n",
       "      <td>0.327915</td>\n",
       "      <td>0.321570</td>\n",
       "      <td>0.605077</td>\n",
       "      <td>0.602642</td>\n",
       "    </tr>\n",
       "    <tr>\n",
       "      <th>4</th>\n",
       "      <td>3408.091515</td>\n",
       "      <td>3800.104171</td>\n",
       "      <td>2902.219751</td>\n",
       "      <td>3488.392225</td>\n",
       "      <td>2814.648335</td>\n",
       "      <td>3259.916396</td>\n",
       "      <td>2908.944342</td>\n",
       "      <td>2975.558559</td>\n",
       "      <td>3827.621974</td>\n",
       "      <td>4993.767052</td>\n",
       "      <td>...</td>\n",
       "      <td>0.704268</td>\n",
       "      <td>0.178193</td>\n",
       "      <td>0.247408</td>\n",
       "      <td>0.24564</td>\n",
       "      <td>0.22089</td>\n",
       "      <td>0.21230</td>\n",
       "      <td>0.204687</td>\n",
       "      <td>0.202213</td>\n",
       "      <td>0.246011</td>\n",
       "      <td>0.432606</td>\n",
       "    </tr>\n",
       "  </tbody>\n",
       "</table>\n",
       "<p>5 rows × 130 columns</p>\n",
       "</div>"
      ],
      "text/plain": [
       "          cat1         cat2         cat3         cat4         cat5  \\\n",
       "0  3408.091515  3800.104171  2902.219751  3488.392225  2814.648335   \n",
       "1  3408.091515  3800.104171  2902.219751  2826.826831  2814.648335   \n",
       "2  3408.091515  3800.104171  2902.219751  2826.826831  3464.009806   \n",
       "3  1915.198521  3800.104171  2902.219751  3488.392225  2814.648335   \n",
       "4  3408.091515  3800.104171  2902.219751  3488.392225  2814.648335   \n",
       "\n",
       "          cat6         cat7         cat8         cat9        cat10    ...     \\\n",
       "0  3259.916396  2908.944342  2975.558559  3827.621974  2694.135528    ...      \n",
       "1  3259.916396  2908.944342  2975.558559  3827.621974  4993.767052    ...      \n",
       "2  3259.916396  2908.944342  2975.558559  3827.621974  4993.767052    ...      \n",
       "3  3259.916396  2908.944342  2975.558559  3827.621974  2694.135528    ...      \n",
       "4  3259.916396  2908.944342  2975.558559  3827.621974  4993.767052    ...      \n",
       "\n",
       "      cont5     cont6     cont7    cont8    cont9   cont10    cont11  \\\n",
       "0  0.310061  0.718367  0.335060  0.30260  0.67135  0.83510  0.569745   \n",
       "1  0.885834  0.438917  0.436585  0.60087  0.35127  0.43919  0.338312   \n",
       "2  0.397069  0.289648  0.315545  0.27320  0.26076  0.32446  0.381398   \n",
       "3  0.422268  0.440945  0.391128  0.31796  0.32128  0.44467  0.327915   \n",
       "4  0.704268  0.178193  0.247408  0.24564  0.22089  0.21230  0.204687   \n",
       "\n",
       "     cont12    cont13    cont14  \n",
       "0  0.594646  0.822493  0.714843  \n",
       "1  0.366307  0.611431  0.304496  \n",
       "2  0.373424  0.195709  0.774425  \n",
       "3  0.321570  0.605077  0.602642  \n",
       "4  0.202213  0.246011  0.432606  \n",
       "\n",
       "[5 rows x 130 columns]"
      ]
     },
     "execution_count": 12,
     "metadata": {},
     "output_type": "execute_result"
    }
   ],
   "source": [
    "x_train.head()"
   ]
  },
  {
   "cell_type": "code",
   "execution_count": 13,
   "metadata": {
    "collapsed": false
   },
   "outputs": [],
   "source": [
    "x_train = np.array(x_train)"
   ]
  },
  {
   "cell_type": "code",
   "execution_count": 14,
   "metadata": {
    "collapsed": false
   },
   "outputs": [],
   "source": [
    "dtrain = xgb.DMatrix(x_train, label=y_train)\n",
    "dtest = xgb.DMatrix(np.array(test))"
   ]
  },
  {
   "cell_type": "code",
   "execution_count": 15,
   "metadata": {
    "collapsed": false
   },
   "outputs": [
    {
     "name": "stdout",
     "output_type": "stream",
     "text": [
      "[0]\ttrain-mae:2809.45+4.04896\ttest-mae:2809.49+12.3357\n",
      "[20]\ttrain-mae:1279.38+2.21768\ttest-mae:1288.15+6.78602\n",
      "[40]\ttrain-mae:1217.07+2.86709\ttest-mae:1236.68+3.25867\n",
      "[60]\ttrain-mae:1193+2.45354\ttest-mae:1220.2+3.11923\n",
      "[80]\ttrain-mae:1174.74+2.05567\ttest-mae:1208.04+3.30164\n",
      "[100]\ttrain-mae:1162.06+2.04096\ttest-mae:1200.62+3.55653\n",
      "[120]\ttrain-mae:1152.01+1.88895\ttest-mae:1195.59+3.62391\n",
      "[140]\ttrain-mae:1144.03+2.0898\ttest-mae:1192.25+3.78117\n",
      "[160]\ttrain-mae:1137.55+2.21707\ttest-mae:1190.1+3.81969\n",
      "[180]\ttrain-mae:1131.65+1.99951\ttest-mae:1188.51+3.89268\n",
      "[200]\ttrain-mae:1126.41+1.67168\ttest-mae:1187.24+4.30746\n",
      "[220]\ttrain-mae:1121.41+1.87848\ttest-mae:1186.09+4.07848\n",
      "[240]\ttrain-mae:1116.37+2.11059\ttest-mae:1185.14+4.03597\n",
      "[260]\ttrain-mae:1111.55+2.20934\ttest-mae:1184.32+4.09598\n",
      "[280]\ttrain-mae:1107.31+2.22984\ttest-mae:1183.63+3.95682\n",
      "[300]\ttrain-mae:1102.74+2.06178\ttest-mae:1183+3.95375\n",
      "[320]\ttrain-mae:1098.64+2.07136\ttest-mae:1182.82+3.89532\n",
      "[340]\ttrain-mae:1094.03+2.10473\ttest-mae:1182.26+3.72552\n",
      "[360]\ttrain-mae:1089.93+2.28787\ttest-mae:1181.83+3.67621\n",
      "[380]\ttrain-mae:1085.61+2.08883\ttest-mae:1181.48+3.83137\n",
      "[400]\ttrain-mae:1081.69+2.00294\ttest-mae:1181.12+3.73086\n",
      "[420]\ttrain-mae:1077.69+1.94939\ttest-mae:1180.76+3.74747\n",
      "[440]\ttrain-mae:1073.65+2.06656\ttest-mae:1180.51+3.60437\n",
      "[460]\ttrain-mae:1069.97+1.95751\ttest-mae:1180.31+3.70794\n",
      "[480]\ttrain-mae:1066.42+1.88065\ttest-mae:1180.32+3.82587\n",
      "[500]\ttrain-mae:1062.69+2.15641\ttest-mae:1180.21+3.69907\n",
      "[520]\ttrain-mae:1059.19+2.10769\ttest-mae:1180.23+3.66802\n"
     ]
    }
   ],
   "source": [
    "params = {\n",
    "    'seed': 0,\n",
    "    'colsample_bytree': 0.7,\n",
    "    'subsample': 0.7,\n",
    "    'learning_rate': 0.075,\n",
    "    'objective': 'reg:linear',\n",
    "    'max_depth': 6,\n",
    "    'num_parallel_tree': 1,\n",
    "    'min_child_weight': 1,\n",
    "    'silent': 1\n",
    "    'eval_metric': ['mae']\n",
    "}\n",
    "\n",
    "cv = xgb.cv(params, dtrain, verbose_eval=20, show_stdv=True, stratified=False,\n",
    "            early_stopping_rounds=25, num_boost_round=750, nfold=4)"
   ]
  },
  {
   "cell_type": "code",
   "execution_count": 16,
   "metadata": {
    "collapsed": false
   },
   "outputs": [
    {
     "name": "stdout",
     "output_type": "stream",
     "text": [
      "Ensemble-CV: 1180.12384025+3.738860221979952\n",
      "Best_nround: 506\n"
     ]
    }
   ],
   "source": [
    "best_nrounds = cv.shape[0] - 1\n",
    "cv_mean = cv.iloc[-1, 0]\n",
    "cv_std = cv.iloc[-1, 1]\n",
    "\n",
    "print('Ensemble-CV: {0}+{1}'.format(cv_mean, cv_std))\n",
    "print('Best_nround:', best_nrounds)"
   ]
  },
  {
   "cell_type": "code",
   "execution_count": 17,
   "metadata": {
    "collapsed": false
   },
   "outputs": [],
   "source": [
    "gb = xgb.train(params, dtrain, best_nrounds)"
   ]
  },
  {
   "cell_type": "code",
   "execution_count": 18,
   "metadata": {
    "collapsed": false
   },
   "outputs": [
    {
     "name": "stderr",
     "output_type": "stream",
     "text": [
      "/Users/arthur/anaconda3/lib/python3.5/site-packages/ipykernel/__main__.py:1: RuntimeWarning: overflow encountered in exp\n",
      "  if __name__ == '__main__':\n"
     ]
    }
   ],
   "source": [
    "make_submission(np.exp(gb.predict(dtest)))"
   ]
  },
  {
   "cell_type": "code",
   "execution_count": null,
   "metadata": {
    "collapsed": true
   },
   "outputs": [],
   "source": []
  }
 ],
 "metadata": {
  "anaconda-cloud": {},
  "kernelspec": {
   "display_name": "Python [conda root]",
   "language": "python",
   "name": "conda-root-py"
  },
  "language_info": {
   "codemirror_mode": {
    "name": "ipython",
    "version": 3
   },
   "file_extension": ".py",
   "mimetype": "text/x-python",
   "name": "python",
   "nbconvert_exporter": "python",
   "pygments_lexer": "ipython3",
   "version": "3.5.2"
  }
 },
 "nbformat": 4,
 "nbformat_minor": 0
}
